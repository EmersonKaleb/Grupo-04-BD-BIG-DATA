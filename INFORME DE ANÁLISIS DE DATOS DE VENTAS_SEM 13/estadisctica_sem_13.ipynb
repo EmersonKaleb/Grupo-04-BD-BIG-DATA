{
  "nbformat": 4,
  "nbformat_minor": 0,
  "metadata": {
    "colab": {
      "provenance": []
    },
    "kernelspec": {
      "name": "python3",
      "display_name": "Python 3"
    },
    "language_info": {
      "name": "python"
    }
  },
  "cells": [
    {
      "cell_type": "code",
      "execution_count": 1,
      "metadata": {
        "colab": {
          "base_uri": "https://localhost:8080/"
        },
        "id": "4Vp7g2ShBbce",
        "outputId": "9152cca1-4934-4566-c680-7b3d66640763"
      },
      "outputs": [
        {
          "output_type": "stream",
          "name": "stdout",
          "text": [
            "Requirement already satisfied: pyspark in /usr/local/lib/python3.10/dist-packages (3.5.3)\n",
            "Requirement already satisfied: py4j==0.10.9.7 in /usr/local/lib/python3.10/dist-packages (from pyspark) (0.10.9.7)\n"
          ]
        }
      ],
      "source": [
        "# Instalar PySpark\n",
        "!pip install pyspark\n",
        "\n",
        "# Importar las bibliotecas necesarias\n",
        "from pyspark.sql import SparkSession\n",
        "from pyspark.sql.functions import col, mean, approx_count_distinct, corr\n",
        "from pyspark.sql import functions as F\n"
      ]
    },
    {
      "cell_type": "code",
      "source": [
        "# Iniciar una sesión de Spark\n",
        "spark = SparkSession.builder.appName(\"InformeDeVentas\").getOrCreate()\n"
      ],
      "metadata": {
        "id": "FrlXrJFiBjbH"
      },
      "execution_count": 2,
      "outputs": []
    },
    {
      "cell_type": "code",
      "source": [
        "# Datos de ejemplo (ID de producto, ventas, inventario)\n",
        "data = [(1, 100, 50), (2, 150, 60), (3, 130, 55), (4, 170, 40),\n",
        "        (5, 200, 30), (6, 130, 20), (7, 110, 70)]\n",
        "columns = [\"ProductoID\", \"Ventas\", \"Inventario\"]\n",
        "df = spark.createDataFrame(data, columns)\n",
        "df.show()\n"
      ],
      "metadata": {
        "colab": {
          "base_uri": "https://localhost:8080/"
        },
        "id": "z37l_S4ABmqQ",
        "outputId": "cf76419c-6dea-4059-bd6a-9270480616cb"
      },
      "execution_count": 3,
      "outputs": [
        {
          "output_type": "stream",
          "name": "stdout",
          "text": [
            "+----------+------+----------+\n",
            "|ProductoID|Ventas|Inventario|\n",
            "+----------+------+----------+\n",
            "|         1|   100|        50|\n",
            "|         2|   150|        60|\n",
            "|         3|   130|        55|\n",
            "|         4|   170|        40|\n",
            "|         5|   200|        30|\n",
            "|         6|   130|        20|\n",
            "|         7|   110|        70|\n",
            "+----------+------+----------+\n",
            "\n"
          ]
        }
      ]
    },
    {
      "cell_type": "code",
      "source": [
        "# Calcular la media de ventas\n",
        "df.select(mean(col(\"Ventas\")).alias(\"Media de Ventas\")).show()\n"
      ],
      "metadata": {
        "colab": {
          "base_uri": "https://localhost:8080/"
        },
        "id": "e2tLdBWLBs0-",
        "outputId": "ee92d433-d512-4c53-ea44-e1a559be98e4"
      },
      "execution_count": 4,
      "outputs": [
        {
          "output_type": "stream",
          "name": "stdout",
          "text": [
            "+------------------+\n",
            "|   Media de Ventas|\n",
            "+------------------+\n",
            "|141.42857142857142|\n",
            "+------------------+\n",
            "\n"
          ]
        }
      ]
    },
    {
      "cell_type": "code",
      "source": [
        "# Calcular la mediana de ventas\n",
        "mediana = df.approxQuantile(\"Ventas\", [0.5], 0.01)\n",
        "print(\"Mediana de Ventas:\", mediana[0])\n"
      ],
      "metadata": {
        "colab": {
          "base_uri": "https://localhost:8080/"
        },
        "id": "swLLOqAqBvi-",
        "outputId": "cece9b0d-a238-4eb3-e64b-c969d50a3312"
      },
      "execution_count": 5,
      "outputs": [
        {
          "output_type": "stream",
          "name": "stdout",
          "text": [
            "Mediana de Ventas: 130.0\n"
          ]
        }
      ]
    },
    {
      "cell_type": "code",
      "source": [
        "# Calcular la moda de ventas\n",
        "mode_df = df.groupBy(\"Ventas\").count().orderBy(F.desc(\"count\"))\n",
        "mode_df.show(1)  # Mostrar la moda\n"
      ],
      "metadata": {
        "colab": {
          "base_uri": "https://localhost:8080/"
        },
        "id": "5_WLbGfmByE2",
        "outputId": "eb8eefac-e8e0-47c1-fcac-587a93dfaa73"
      },
      "execution_count": 6,
      "outputs": [
        {
          "output_type": "stream",
          "name": "stdout",
          "text": [
            "+------+-----+\n",
            "|Ventas|count|\n",
            "+------+-----+\n",
            "|   130|    2|\n",
            "+------+-----+\n",
            "only showing top 1 row\n",
            "\n"
          ]
        }
      ]
    },
    {
      "cell_type": "code",
      "source": [
        "# Calcular la correlación entre inventario y ventas\n",
        "df.select(corr(\"Ventas\", \"Inventario\").alias(\"Correlación Ventas-Inventario\")).show()\n"
      ],
      "metadata": {
        "colab": {
          "base_uri": "https://localhost:8080/"
        },
        "id": "vCQ_EWtvB2L0",
        "outputId": "a69a6c14-7f01-479d-b4e2-496aa3e85957"
      },
      "execution_count": 7,
      "outputs": [
        {
          "output_type": "stream",
          "name": "stdout",
          "text": [
            "+-----------------------------+\n",
            "|Correlación Ventas-Inventario|\n",
            "+-----------------------------+\n",
            "|          -0.4687535763196143|\n",
            "+-----------------------------+\n",
            "\n"
          ]
        }
      ]
    }
  ]
}