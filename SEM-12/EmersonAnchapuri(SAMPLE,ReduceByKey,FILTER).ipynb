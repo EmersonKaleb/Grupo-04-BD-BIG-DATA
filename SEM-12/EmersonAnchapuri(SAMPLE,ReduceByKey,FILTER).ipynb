{
  "nbformat": 4,
  "nbformat_minor": 0,
  "metadata": {
    "colab": {
      "provenance": []
    },
    "kernelspec": {
      "name": "python3",
      "display_name": "Python 3"
    },
    "language_info": {
      "name": "python"
    }
  },
  "cells": [
    {
      "cell_type": "code",
      "execution_count": 1,
      "metadata": {
        "colab": {
          "base_uri": "https://localhost:8080/"
        },
        "id": "f3a2XGdYFdsP",
        "outputId": "1384c154-6fe0-4485-d4ce-f1f2afbf4f5b"
      },
      "outputs": [
        {
          "output_type": "stream",
          "name": "stdout",
          "text": [
            "Requirement already satisfied: pyspark in /usr/local/lib/python3.10/dist-packages (3.5.3)\n",
            "Requirement already satisfied: py4j==0.10.9.7 in /usr/local/lib/python3.10/dist-packages (from pyspark) (0.10.9.7)\n"
          ]
        }
      ],
      "source": [
        "pip install pyspark"
      ]
    },
    {
      "cell_type": "code",
      "source": [
        "from pyspark.context import SparkContext\n",
        "from pyspark import SparkContext\n",
        "from pyspark.sql import *\n",
        "from pyspark.sql.functions import *"
      ],
      "metadata": {
        "id": "KvcvJd7kFozT"
      },
      "execution_count": 2,
      "outputs": []
    },
    {
      "cell_type": "code",
      "source": [
        "spark = SparkSession.builder.appName(\"Semana12_2\").getOrCreate()\n",
        "sc = spark.sparkContext"
      ],
      "metadata": {
        "id": "jnyuUWpHFwtN"
      },
      "execution_count": 3,
      "outputs": []
    },
    {
      "cell_type": "code",
      "source": [
        "data1 = [\n",
        "    (\"Juan\", \"Tecnología\"),\n",
        "    (\"Maria\", \"Arte\"),\n",
        "    (\"Pedro\", \"Deportes\"),\n",
        "    (\"Ana\", \"Ciencia\"),\n",
        "    (\"Carlos\", \"Ciencia\"),\n",
        "    (\"Luisa\", \"Tecnología\")\n",
        "]\n",
        "\n",
        "data2 = [\n",
        "    (\"Miguel\", \"Tecnología\"),\n",
        "    (\"Sandra\", \"Deportes\"),\n",
        "    (\"Juan\", \"Arte\"),\n",
        "    (\"Ana\", \"Deportes\"),\n",
        "    (\"Carlos\", \"Arte\")\n",
        "]\n",
        "\n",
        "# Crear los RDDs\n",
        "rdd1 = sc.parallelize(data1)\n",
        "rdd2 = sc.parallelize(data2)\n"
      ],
      "metadata": {
        "id": "LhX85tMsF-al"
      },
      "execution_count": 4,
      "outputs": []
    },
    {
      "cell_type": "markdown",
      "source": [
        "**SAMPLE**"
      ],
      "metadata": {
        "id": "JDIvZT0BGG2G"
      }
    },
    {
      "cell_type": "code",
      "source": [
        "rdd_sample = rdd1.sample(withReplacement=False, fraction=0.5, seed=42)\n",
        "print(\"Sample (muestra aleatoria del 50% de rdd1):\")\n",
        "print(rdd_sample.collect())\n"
      ],
      "metadata": {
        "colab": {
          "base_uri": "https://localhost:8080/"
        },
        "id": "XP3kG4rFGJZu",
        "outputId": "1d02a367-213c-49a8-bd34-8d63986385de"
      },
      "execution_count": 15,
      "outputs": [
        {
          "output_type": "stream",
          "name": "stdout",
          "text": [
            "Sample (muestra aleatoria del 50% de rdd1):\n",
            "[('Juan', 'Tecnología'), ('Maria', 'Arte')]\n"
          ]
        }
      ]
    },
    {
      "cell_type": "markdown",
      "source": [
        "**ReduceByKey**"
      ],
      "metadata": {
        "id": "ENjFKezEHJsJ"
      }
    },
    {
      "cell_type": "code",
      "source": [
        "\n",
        "rdd_interes = rdd1.map(lambda x: (x[1], 1))\n",
        "\n",
        "\n",
        "conteo_interes = rdd_interes.reduceByKey(lambda a, b: a + b)\n",
        "print(\"ReduceByKey (conteo de personas por interés):\")\n",
        "print(conteo_interes.collect())\n"
      ],
      "metadata": {
        "colab": {
          "base_uri": "https://localhost:8080/"
        },
        "id": "kjmJydqgGqh-",
        "outputId": "e97949a6-80a0-4ec1-b782-75d3191f6c72"
      },
      "execution_count": 8,
      "outputs": [
        {
          "output_type": "stream",
          "name": "stdout",
          "text": [
            "ReduceByKey (conteo de personas por interés):\n",
            "[('Tecnología', 2), ('Deportes', 1), ('Ciencia', 2), ('Arte', 1)]\n"
          ]
        }
      ]
    },
    {
      "cell_type": "markdown",
      "source": [
        "**FILTER**"
      ],
      "metadata": {
        "id": "11fddjy7HQj5"
      }
    },
    {
      "cell_type": "code",
      "source": [
        "rdd_filtrado = rdd1.filter(lambda x: x[1] == \"Tecnología\")\n",
        "print(\"Filter (personas interesadas en 'Tecnología'):\")\n",
        "print(rdd_filtrado.collect())"
      ],
      "metadata": {
        "colab": {
          "base_uri": "https://localhost:8080/"
        },
        "id": "bj5wZecOHIcS",
        "outputId": "6f808277-1433-4455-93bd-5586a998a6b1"
      },
      "execution_count": 11,
      "outputs": [
        {
          "output_type": "stream",
          "name": "stdout",
          "text": [
            "Filter (personas interesadas en 'Tecnología'):\n",
            "[('Juan', 'Tecnología'), ('Luisa', 'Tecnología')]\n"
          ]
        }
      ]
    }
  ]
}