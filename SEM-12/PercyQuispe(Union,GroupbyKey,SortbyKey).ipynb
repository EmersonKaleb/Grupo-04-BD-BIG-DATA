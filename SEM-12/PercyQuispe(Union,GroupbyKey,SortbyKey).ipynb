{
  "nbformat": 4,
  "nbformat_minor": 0,
  "metadata": {
    "colab": {
      "provenance": []
    },
    "kernelspec": {
      "name": "python3",
      "display_name": "Python 3"
    },
    "language_info": {
      "name": "python"
    }
  },
  "cells": [
    {
      "cell_type": "code",
      "execution_count": null,
      "metadata": {
        "colab": {
          "base_uri": "https://localhost:8080/"
        },
        "id": "qzn7oYkrFtRF",
        "outputId": "891667f9-cd62-4e01-ccf5-f5b805b1276f"
      },
      "outputs": [
        {
          "output_type": "stream",
          "name": "stdout",
          "text": [
            "Requirement already satisfied: pyspark in /usr/local/lib/python3.10/dist-packages (3.5.3)\n",
            "Requirement already satisfied: py4j==0.10.9.7 in /usr/local/lib/python3.10/dist-packages (from pyspark) (0.10.9.7)\n"
          ]
        }
      ],
      "source": [
        "pip install pyspark"
      ]
    },
    {
      "cell_type": "code",
      "source": [
        "from pyspark.context import SparkContext\n",
        "from pyspark import SparkContext\n",
        "from pyspark.sql import *\n",
        "from pyspark.sql.functions import *\n",
        "\n"
      ],
      "metadata": {
        "id": "_3ftAE-8GABk"
      },
      "execution_count": 2,
      "outputs": []
    },
    {
      "cell_type": "code",
      "source": [
        "spark1=SparkSession.builder.appName(\"Semana12\").getOrCreate()"
      ],
      "metadata": {
        "id": "gQyB_gQR4UHH"
      },
      "execution_count": 3,
      "outputs": []
    },
    {
      "cell_type": "code",
      "source": [
        "sc=spark1.sparkContext"
      ],
      "metadata": {
        "id": "-h3inOEu4cEs"
      },
      "execution_count": 4,
      "outputs": []
    },
    {
      "cell_type": "code",
      "source": [
        "\n",
        "data = [\n",
        "    (\"Juan\", 25, \"Ingeniería\"),\n",
        "    (\"Maria\", 30, \"Matemáticas\"),\n",
        "    (\"Pedro\", 28, \"Física\"),\n",
        "    (\"Ana\", 22, \"Química\"),\n",
        "    (\"Carlos\", 35, \"Historia\"),\n",
        "    (\"Luisa\", 27, \"Ingeniería\"),\n",
        "    (\"Elena\", 31, \"Matemáticas\"),\n",
        "    (\"Andrés\", 26, \"Física\")\n",
        "]"
      ],
      "metadata": {
        "id": "Xh42gG5y4juO"
      },
      "execution_count": 5,
      "outputs": []
    },
    {
      "cell_type": "code",
      "source": [
        "data"
      ],
      "metadata": {
        "colab": {
          "base_uri": "https://localhost:8080/"
        },
        "id": "rX_ptELGJ2_w",
        "outputId": "2fc07bfb-110d-40ce-e678-c19d336f9ffb"
      },
      "execution_count": 8,
      "outputs": [
        {
          "output_type": "execute_result",
          "data": {
            "text/plain": [
              "[('Juan', 25, 'Ingeniería'),\n",
              " ('Maria', 30, 'Matemáticas'),\n",
              " ('Pedro', 28, 'Física'),\n",
              " ('Ana', 22, 'Química'),\n",
              " ('Carlos', 35, 'Historia'),\n",
              " ('Luisa', 27, 'Ingeniería'),\n",
              " ('Elena', 31, 'Matemáticas'),\n",
              " ('Andrés', 26, 'Física')]"
            ]
          },
          "metadata": {},
          "execution_count": 8
        }
      ]
    },
    {
      "cell_type": "code",
      "source": [
        "rdd = sc.parallelize(data)"
      ],
      "metadata": {
        "id": "kHYGN1D4J02l"
      },
      "execution_count": 6,
      "outputs": []
    },
    {
      "cell_type": "code",
      "source": [
        "\n",
        "\n",
        "data_extra = [\n",
        "    (\"Miguel\", 29, \"Biología\"),\n",
        "    (\"Sandra\", 24, \"Química\")\n",
        "]\n",
        "\n",
        "rdd_extra = sc.parallelize(data_extra)\n",
        "rdd_union = rdd.union(rdd_extra)\n",
        "print(rdd_union.collect())\n"
      ],
      "metadata": {
        "colab": {
          "base_uri": "https://localhost:8080/"
        },
        "id": "ry9DWi7OP9zQ",
        "outputId": "be955f7e-e2eb-4872-986d-41a18dbfe540"
      },
      "execution_count": 15,
      "outputs": [
        {
          "output_type": "stream",
          "name": "stdout",
          "text": [
            "[('Juan', 25, 'Ingeniería'), ('Maria', 30, 'Matemáticas'), ('Pedro', 28, 'Física'), ('Ana', 22, 'Química'), ('Carlos', 35, 'Historia'), ('Luisa', 27, 'Ingeniería'), ('Elena', 31, 'Matemáticas'), ('Andrés', 26, 'Física'), ('Miguel', 29, 'Biología'), ('Sandra', 24, 'Química')]\n"
          ]
        }
      ]
    },
    {
      "cell_type": "code",
      "source": [
        "rdd_departamento = rdd.map(lambda x: (x[2], x[1]))\n",
        "agrupado_por_departamento = rdd_departamento.groupByKey().mapValues(list)\n",
        "print(agrupado_por_departamento.collect())\n"
      ],
      "metadata": {
        "colab": {
          "base_uri": "https://localhost:8080/"
        },
        "id": "euyD4SL1QvJN",
        "outputId": "81ea2b1f-e111-45ad-f9d9-076b30052f6d"
      },
      "execution_count": 16,
      "outputs": [
        {
          "output_type": "stream",
          "name": "stdout",
          "text": [
            "[('Matemáticas', [30, 31]), ('Física', [28, 26]), ('Historia', [35]), ('Ingeniería', [25, 27]), ('Química', [22])]\n"
          ]
        }
      ]
    },
    {
      "cell_type": "code",
      "source": [
        "rdd_ordenado = rdd_departamento.sortByKey()\n",
        "print(rdd_ordenado.collect())\n"
      ],
      "metadata": {
        "colab": {
          "base_uri": "https://localhost:8080/"
        },
        "id": "pK9jCLFoRtaF",
        "outputId": "d18965af-ba9f-4923-f967-5639481bba55"
      },
      "execution_count": 18,
      "outputs": [
        {
          "output_type": "stream",
          "name": "stdout",
          "text": [
            "[('Física', 28), ('Física', 26), ('Historia', 35), ('Ingeniería', 25), ('Ingeniería', 27), ('Matemáticas', 30), ('Matemáticas', 31), ('Química', 22)]\n"
          ]
        }
      ]
    }
  ]
}